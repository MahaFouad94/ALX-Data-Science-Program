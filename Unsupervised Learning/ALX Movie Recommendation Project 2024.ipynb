{
 "cells": [
  {
   "cell_type": "code",
   "execution_count": 1,
   "id": "f6dafc74",
   "metadata": {
    "_cell_guid": "b1076dfc-b9ad-4769-8c92-a6c4dae69d19",
    "_uuid": "8f2839f25d086af736a60e9eeb907d3b93b6e0e5",
    "execution": {
     "iopub.execute_input": "2024-06-20T00:06:40.843754Z",
     "iopub.status.busy": "2024-06-20T00:06:40.842815Z",
     "iopub.status.idle": "2024-06-20T00:06:41.734311Z",
     "shell.execute_reply": "2024-06-20T00:06:41.733014Z"
    },
    "papermill": {
     "duration": 0.900104,
     "end_time": "2024-06-20T00:06:41.737359",
     "exception": false,
     "start_time": "2024-06-20T00:06:40.837255",
     "status": "completed"
    },
    "tags": []
   },
   "outputs": [
    {
     "name": "stdout",
     "output_type": "stream",
     "text": [
      "/kaggle/input/alx-movie-recommendation-project-2024/sample_submission.csv\n",
      "/kaggle/input/alx-movie-recommendation-project-2024/movies.csv\n",
      "/kaggle/input/alx-movie-recommendation-project-2024/imdb_data.csv\n",
      "/kaggle/input/alx-movie-recommendation-project-2024/genome_tags.csv\n",
      "/kaggle/input/alx-movie-recommendation-project-2024/genome_scores.csv\n",
      "/kaggle/input/alx-movie-recommendation-project-2024/train.csv\n",
      "/kaggle/input/alx-movie-recommendation-project-2024/test.csv\n",
      "/kaggle/input/alx-movie-recommendation-project-2024/tags.csv\n",
      "/kaggle/input/alx-movie-recommendation-project-2024/links.csv\n"
     ]
    }
   ],
   "source": [
    "# This Python 3 environment comes with many helpful analytics libraries installed\n",
    "# It is defined by the kaggle/python Docker image: https://github.com/kaggle/docker-python\n",
    "# For example, here's several helpful packages to load\n",
    "\n",
    "import numpy as np # linear algebra\n",
    "import pandas as pd # data processing, CSV file I/O (e.g. pd.read_csv)\n",
    "\n",
    "# Input data files are available in the read-only \"../input/\" directory\n",
    "# For example, running this (by clicking run or pressing Shift+Enter) will list all files under the input directory\n",
    "\n",
    "import os\n",
    "for dirname, _, filenames in os.walk('/kaggle/input'):\n",
    "    for filename in filenames:\n",
    "        print(os.path.join(dirname, filename))\n",
    "\n",
    "# You can write up to 20GB to the current directory (/kaggle/working/) that gets preserved as output when you create a version using \"Save & Run All\" \n",
    "# You can also write temporary files to /kaggle/temp/, but they won't be saved outside of the current session"
   ]
  },
  {
   "cell_type": "markdown",
   "id": "29960e4c",
   "metadata": {
    "papermill": {
     "duration": 0.003253,
     "end_time": "2024-06-20T00:06:41.744278",
     "exception": false,
     "start_time": "2024-06-20T00:06:41.741025",
     "status": "completed"
    },
    "tags": []
   },
   "source": [
    "**Data Exploration and Understanding**"
   ]
  },
  {
   "cell_type": "code",
   "execution_count": 2,
   "id": "076a6204",
   "metadata": {
    "execution": {
     "iopub.execute_input": "2024-06-20T00:06:41.753784Z",
     "iopub.status.busy": "2024-06-20T00:06:41.752539Z",
     "iopub.status.idle": "2024-06-20T00:06:58.414663Z",
     "shell.execute_reply": "2024-06-20T00:06:58.413641Z"
    },
    "papermill": {
     "duration": 16.669316,
     "end_time": "2024-06-20T00:06:58.417139",
     "exception": false,
     "start_time": "2024-06-20T00:06:41.747823",
     "status": "completed"
    },
    "tags": []
   },
   "outputs": [
    {
     "name": "stdout",
     "output_type": "stream",
     "text": [
      "/kaggle/input/alx-movie-recommendation-project-2024/sample_submission.csv\n",
      "/kaggle/input/alx-movie-recommendation-project-2024/movies.csv\n",
      "/kaggle/input/alx-movie-recommendation-project-2024/imdb_data.csv\n",
      "/kaggle/input/alx-movie-recommendation-project-2024/genome_tags.csv\n",
      "/kaggle/input/alx-movie-recommendation-project-2024/genome_scores.csv\n",
      "/kaggle/input/alx-movie-recommendation-project-2024/train.csv\n",
      "/kaggle/input/alx-movie-recommendation-project-2024/test.csv\n",
      "/kaggle/input/alx-movie-recommendation-project-2024/tags.csv\n",
      "/kaggle/input/alx-movie-recommendation-project-2024/links.csv\n",
      "   userId  movieId  rating   timestamp\n",
      "0    5163    57669     4.0  1518349992\n",
      "1  106343        5     4.5  1206238739\n",
      "2  146790     5459     5.0  1076215539\n",
      "3  106362    32296     2.0  1423042565\n",
      "4    9041      366     3.0   833375837\n",
      "   userId  movieId\n",
      "0       1     2011\n",
      "1       1     4144\n",
      "2       1     5767\n",
      "3       1     6711\n",
      "4       1     7318\n",
      "   movieId                               title  \\\n",
      "0        1                    Toy Story (1995)   \n",
      "1        2                      Jumanji (1995)   \n",
      "2        3             Grumpier Old Men (1995)   \n",
      "3        4            Waiting to Exhale (1995)   \n",
      "4        5  Father of the Bride Part II (1995)   \n",
      "\n",
      "                                        genres  \n",
      "0  Adventure|Animation|Children|Comedy|Fantasy  \n",
      "1                   Adventure|Children|Fantasy  \n",
      "2                               Comedy|Romance  \n",
      "3                         Comedy|Drama|Romance  \n",
      "4                                       Comedy  \n",
      "   userId  movieId               tag   timestamp\n",
      "0       3      260           classic  1439472355\n",
      "1       3      260            sci-fi  1439472256\n",
      "2       4     1732       dark comedy  1573943598\n",
      "3       4     1732    great dialogue  1573943604\n",
      "4       4     7569  so bad it's good  1573943455\n",
      "   movieId  tagId  relevance\n",
      "0        1      1    0.02875\n",
      "1        1      2    0.02375\n",
      "2        1      3    0.06250\n",
      "3        1      4    0.07575\n",
      "4        1      5    0.14075\n",
      "   tagId           tag\n",
      "0      1           007\n",
      "1      2  007 (series)\n",
      "2      3  18th century\n",
      "3      4         1920s\n",
      "4      5         1930s\n",
      "   movieId                                         title_cast  \\\n",
      "0        1  Tom Hanks|Tim Allen|Don Rickles|Jim Varney|Wal...   \n",
      "1        2  Robin Williams|Jonathan Hyde|Kirsten Dunst|Bra...   \n",
      "2        3  Walter Matthau|Jack Lemmon|Sophia Loren|Ann-Ma...   \n",
      "3        4  Whitney Houston|Angela Bassett|Loretta Devine|...   \n",
      "4        5  Steve Martin|Diane Keaton|Martin Short|Kimberl...   \n",
      "\n",
      "              director  runtime       budget  \\\n",
      "0        John Lasseter     81.0  $30,000,000   \n",
      "1   Jonathan Hensleigh    104.0  $65,000,000   \n",
      "2  Mark Steven Johnson    101.0  $25,000,000   \n",
      "3       Terry McMillan    124.0  $16,000,000   \n",
      "4       Albert Hackett    106.0  $30,000,000   \n",
      "\n",
      "                                       plot_keywords  \n",
      "0                   toy|rivalry|cowboy|cgi animation  \n",
      "1                   board game|adventurer|fight|game  \n",
      "2                         boat|lake|neighbor|rivalry  \n",
      "3  black american|husband wife relationship|betra...  \n",
      "4                    fatherhood|doberman|dog|mansion  \n",
      "   movieId  imdbId   tmdbId\n",
      "0        1  114709    862.0\n",
      "1        2  113497   8844.0\n",
      "2        3  113228  15602.0\n",
      "3        4  114885  31357.0\n",
      "4        5  113041  11862.0\n"
     ]
    }
   ],
   "source": [
    "import numpy as np\n",
    "import pandas as pd\n",
    "import os\n",
    "\n",
    "# List all files under the input directory\n",
    "for dirname, _, filenames in os.walk('/kaggle/input'):\n",
    "    for filename in filenames:\n",
    "        print(os.path.join(dirname, filename))\n",
    "\n",
    "# Load the datasets\n",
    "train_df = pd.read_csv('/kaggle/input/alx-movie-recommendation-project-2024/train.csv')\n",
    "test_df = pd.read_csv('/kaggle/input/alx-movie-recommendation-project-2024/test.csv')\n",
    "movies_df = pd.read_csv('/kaggle/input/alx-movie-recommendation-project-2024/movies.csv')\n",
    "tags_df = pd.read_csv('/kaggle/input/alx-movie-recommendation-project-2024/tags.csv')\n",
    "genome_scores_df = pd.read_csv('/kaggle/input/alx-movie-recommendation-project-2024/genome_scores.csv')\n",
    "genome_tags_df = pd.read_csv('/kaggle/input/alx-movie-recommendation-project-2024/genome_tags.csv')\n",
    "imdb_data_df = pd.read_csv('/kaggle/input/alx-movie-recommendation-project-2024/imdb_data.csv')\n",
    "links_df = pd.read_csv('/kaggle/input/alx-movie-recommendation-project-2024/links.csv')\n",
    "\n",
    "# Inspect the data\n",
    "print(train_df.head())\n",
    "print(test_df.head())\n",
    "print(movies_df.head())\n",
    "print(tags_df.head())\n",
    "print(genome_scores_df.head())\n",
    "print(genome_tags_df.head())\n",
    "print(imdb_data_df.head())\n",
    "print(links_df.head())\n"
   ]
  },
  {
   "cell_type": "markdown",
   "id": "26439ca8",
   "metadata": {
    "papermill": {
     "duration": 0.003388,
     "end_time": "2024-06-20T00:06:58.424388",
     "exception": false,
     "start_time": "2024-06-20T00:06:58.421000",
     "status": "completed"
    },
    "tags": []
   },
   "source": [
    "**Data Preprocessing**"
   ]
  },
  {
   "cell_type": "code",
   "execution_count": 3,
   "id": "327aab50",
   "metadata": {
    "execution": {
     "iopub.execute_input": "2024-06-20T00:06:58.434050Z",
     "iopub.status.busy": "2024-06-20T00:06:58.433102Z",
     "iopub.status.idle": "2024-06-20T00:07:00.480328Z",
     "shell.execute_reply": "2024-06-20T00:07:00.479251Z"
    },
    "papermill": {
     "duration": 2.054468,
     "end_time": "2024-06-20T00:07:00.482710",
     "exception": false,
     "start_time": "2024-06-20T00:06:58.428242",
     "status": "completed"
    },
    "tags": []
   },
   "outputs": [
    {
     "name": "stdout",
     "output_type": "stream",
     "text": [
      "\n",
      "Train DataFrame after filling missing values:\n",
      "   userId  movieId  rating   timestamp\n",
      "0    5163    57669     4.0  1518349992\n",
      "1  106343        5     4.5  1206238739\n",
      "2  146790     5459     5.0  1076215539\n",
      "3  106362    32296     2.0  1423042565\n",
      "4    9041      366     3.0   833375837\n",
      "\n",
      "Merged Train DataFrame Head:\n",
      "   userId  movieId  rating   timestamp  \\\n",
      "0    5163    57669     4.0  1518349992   \n",
      "1  106343        5     4.5  1206238739   \n",
      "2  146790     5459     5.0  1076215539   \n",
      "3  106362    32296     2.0  1423042565   \n",
      "4    9041      366     3.0   833375837   \n",
      "\n",
      "                                               title  \\\n",
      "0                                   In Bruges (2008)   \n",
      "1                 Father of the Bride Part II (1995)   \n",
      "2  Men in Black II (a.k.a. MIIB) (a.k.a. MIB 2) (...   \n",
      "3     Miss Congeniality 2: Armed and Fabulous (2005)   \n",
      "4  Wes Craven's New Nightmare (Nightmare on Elm S...   \n",
      "\n",
      "                          genres  \n",
      "0    Comedy|Crime|Drama|Thriller  \n",
      "1                         Comedy  \n",
      "2           Action|Comedy|Sci-Fi  \n",
      "3         Adventure|Comedy|Crime  \n",
      "4  Drama|Horror|Mystery|Thriller  \n"
     ]
    }
   ],
   "source": [
    "\n",
    "\n",
    "# Handle missing values in train data\n",
    "train_df.fillna(train_df.mean(), inplace=True)\n",
    "print(\"\\nTrain DataFrame after filling missing values:\")\n",
    "print(train_df.head())\n",
    "\n",
    "# Merge train data with movies data\n",
    "train_merged = pd.merge(train_df, movies_df, on='movieId', how='left')\n",
    "print(\"\\nMerged Train DataFrame Head:\")\n",
    "print(train_merged.head())\n"
   ]
  },
  {
   "cell_type": "markdown",
   "id": "42befbae",
   "metadata": {
    "papermill": {
     "duration": 0.003521,
     "end_time": "2024-06-20T00:07:00.490038",
     "exception": false,
     "start_time": "2024-06-20T00:07:00.486517",
     "status": "completed"
    },
    "tags": []
   },
   "source": [
    "**Feature Engineering**"
   ]
  },
  {
   "cell_type": "code",
   "execution_count": 4,
   "id": "0777645f",
   "metadata": {
    "execution": {
     "iopub.execute_input": "2024-06-20T00:07:00.499457Z",
     "iopub.status.busy": "2024-06-20T00:07:00.498829Z",
     "iopub.status.idle": "2024-06-20T00:07:04.387620Z",
     "shell.execute_reply": "2024-06-20T00:07:04.386578Z"
    },
    "papermill": {
     "duration": 3.896369,
     "end_time": "2024-06-20T00:07:04.390470",
     "exception": false,
     "start_time": "2024-06-20T00:07:00.494101",
     "status": "completed"
    },
    "tags": []
   },
   "outputs": [
    {
     "name": "stdout",
     "output_type": "stream",
     "text": [
      "\n",
      "User Average Ratings:\n",
      "userId\n",
      "1    3.910714\n",
      "2    3.416667\n",
      "3    3.691235\n",
      "4    3.308989\n",
      "5    3.885714\n",
      "Name: rating, dtype: float64\n",
      "\n",
      "Movie Average Ratings:\n",
      "movieId\n",
      "1    3.889971\n",
      "2    3.263414\n",
      "3    3.132325\n",
      "4    2.878099\n",
      "5    3.059165\n",
      "Name: rating, dtype: float64\n",
      "\n",
      "Train Merged DataFrame with User and Movie Average Ratings:\n",
      "   userId  movieId  rating   timestamp  \\\n",
      "0    5163    57669     4.0  1518349992   \n",
      "1  106343        5     4.5  1206238739   \n",
      "2  146790     5459     5.0  1076215539   \n",
      "3  106362    32296     2.0  1423042565   \n",
      "4    9041      366     3.0   833375837   \n",
      "\n",
      "                                               title  \\\n",
      "0                                   In Bruges (2008)   \n",
      "1                 Father of the Bride Part II (1995)   \n",
      "2  Men in Black II (a.k.a. MIIB) (a.k.a. MIB 2) (...   \n",
      "3     Miss Congeniality 2: Armed and Fabulous (2005)   \n",
      "4  Wes Craven's New Nightmare (Nightmare on Elm S...   \n",
      "\n",
      "                          genres  rating_user  rating_movie  \n",
      "0    Comedy|Crime|Drama|Thriller     4.136364      3.889842  \n",
      "1                         Comedy     3.671875      3.059165  \n",
      "2           Action|Comedy|Sci-Fi     4.000000      3.004276  \n",
      "3         Adventure|Comedy|Crime     3.371012      2.535714  \n",
      "4  Drama|Horror|Mystery|Thriller     4.000000      2.972609  \n"
     ]
    }
   ],
   "source": [
    "# Calculate user and movie average ratings\n",
    "user_avg_rating = train_df.groupby('userId')['rating'].mean()\n",
    "movie_avg_rating = train_df.groupby('movieId')['rating'].mean()\n",
    "\n",
    "print(\"\\nUser Average Ratings:\")\n",
    "print(user_avg_rating.head())\n",
    "print(\"\\nMovie Average Ratings:\")\n",
    "print(movie_avg_rating.head())\n",
    "\n",
    "# Join user and movie average ratings with train_merged\n",
    "train_merged = train_merged.join(user_avg_rating, on='userId', rsuffix='_user')\n",
    "train_merged = train_merged.join(movie_avg_rating, on='movieId', rsuffix='_movie')\n",
    "\n",
    "print(\"\\nTrain Merged DataFrame with User and Movie Average Ratings:\")\n",
    "print(train_merged.head())"
   ]
  },
  {
   "cell_type": "markdown",
   "id": "e60ccb35",
   "metadata": {
    "papermill": {
     "duration": 0.003783,
     "end_time": "2024-06-20T00:07:04.398533",
     "exception": false,
     "start_time": "2024-06-20T00:07:04.394750",
     "status": "completed"
    },
    "tags": []
   },
   "source": [
    "**Building the Model**"
   ]
  },
  {
   "cell_type": "code",
   "execution_count": 5,
   "id": "2e0c4121",
   "metadata": {
    "execution": {
     "iopub.execute_input": "2024-06-20T00:07:04.408073Z",
     "iopub.status.busy": "2024-06-20T00:07:04.407702Z",
     "iopub.status.idle": "2024-06-20T00:11:11.757830Z",
     "shell.execute_reply": "2024-06-20T00:11:11.756674Z"
    },
    "papermill": {
     "duration": 247.36177,
     "end_time": "2024-06-20T00:11:11.764294",
     "exception": false,
     "start_time": "2024-06-20T00:07:04.402524",
     "status": "completed"
    },
    "tags": []
   },
   "outputs": [
    {
     "name": "stdout",
     "output_type": "stream",
     "text": [
      "RMSE: 0.8333\n",
      "RMSE: 0.8333175842306644\n"
     ]
    }
   ],
   "source": [
    "from surprise import Dataset, Reader, SVD\n",
    "from surprise.model_selection import train_test_split\n",
    "from surprise import accuracy\n",
    "\n",
    "# Load data into Surprise\n",
    "reader = Reader(rating_scale=(0.5, 5.0))\n",
    "data = Dataset.load_from_df(train_df[['userId', 'movieId', 'rating']], reader)\n",
    "\n",
    "# Train-test split\n",
    "trainset, testset = train_test_split(data, test_size=0.2)\n",
    "\n",
    "# Model training\n",
    "model = SVD()\n",
    "model.fit(trainset)\n",
    "\n",
    "# Predictions\n",
    "predictions = model.test(testset)\n",
    "\n",
    "# Evaluation\n",
    "rmse = accuracy.rmse(predictions)\n",
    "print(f'RMSE: {rmse}')"
   ]
  },
  {
   "cell_type": "markdown",
   "id": "fbe8ba90",
   "metadata": {
    "papermill": {
     "duration": 0.003837,
     "end_time": "2024-06-20T00:11:11.772284",
     "exception": false,
     "start_time": "2024-06-20T00:11:11.768447",
     "status": "completed"
    },
    "tags": []
   },
   "source": [
    "**Model Training and Prediction**"
   ]
  },
  {
   "cell_type": "code",
   "execution_count": 6,
   "id": "049824d9",
   "metadata": {
    "execution": {
     "iopub.execute_input": "2024-06-20T00:11:11.782506Z",
     "iopub.status.busy": "2024-06-20T00:11:11.781497Z",
     "iopub.status.idle": "2024-06-20T00:11:13.245870Z",
     "shell.execute_reply": "2024-06-20T00:11:13.244819Z"
    },
    "papermill": {
     "duration": 1.471835,
     "end_time": "2024-06-20T00:11:13.248095",
     "exception": false,
     "start_time": "2024-06-20T00:11:11.776260",
     "status": "completed"
    },
    "tags": []
   },
   "outputs": [
    {
     "name": "stdout",
     "output_type": "stream",
     "text": [
      "Best parameters: {'n_factors': 20, 'n_epochs': 20, 'lr_all': 0.002, 'reg_all': 0.02}\n",
      "RMSE: 0.9428\n",
      "   userId  movieId  rating  predicted_rating\n",
      "0       1       10     4.0          3.793649\n",
      "1       2       20     3.5          3.790023\n",
      "2       3       30     2.0          3.647934\n",
      "3       4       40     5.0          3.893881\n",
      "4       5       50     4.5          3.884423\n"
     ]
    }
   ],
   "source": [
    "from surprise import Dataset, Reader, SVD, accuracy\n",
    "from surprise.model_selection import GridSearchCV, train_test_split\n",
    "import pandas as pd\n",
    "\n",
    "# Create a sample DataFrame\n",
    "data = {\n",
    "    'userId': [1, 2, 3, 4, 5],\n",
    "    'movieId': [10, 20, 30, 40, 50],\n",
    "    'rating': [4.0, 3.5, 2.0, 5.0, 4.5]\n",
    "}\n",
    "train_df = pd.DataFrame(data)\n",
    "\n",
    "# Load data into the Surprise Dataset\n",
    "data = Dataset.load_from_df(train_df[['userId', 'movieId', 'rating']], Reader(rating_scale=(0.5, 5.0)))\n",
    "\n",
    "# Parameter tuning grid\n",
    "param_grid = {\n",
    "    'n_factors': [20, 50],\n",
    "    'n_epochs': [20],\n",
    "    'lr_all': [0.002, 0.005],\n",
    "    'reg_all': [0.02, 0.1]\n",
    "}\n",
    "\n",
    "# Perform grid search\n",
    "gs = GridSearchCV(SVD, param_grid, measures=['rmse'], cv=3, n_jobs=1)\n",
    "gs.fit(data)\n",
    "\n",
    "# Best parameters\n",
    "best_params = gs.best_params['rmse']\n",
    "print(f'Best parameters: {best_params}')\n",
    "\n",
    "# Train with best parameters on full dataset\n",
    "best_model = SVD(**best_params)\n",
    "trainset = data.build_full_trainset()\n",
    "best_model.fit(trainset)\n",
    "\n",
    "# Create a sample test DataFrame\n",
    "test_data = {\n",
    "    'userId': [1, 2, 3, 4, 5],\n",
    "    'movieId': [10, 20, 30, 40, 50],\n",
    "    'rating': [4.0, 3.5, 2.0, 5.0, 4.5]\n",
    "}\n",
    "test_df = pd.DataFrame(test_data)\n",
    "\n",
    "# Load test data into the Surprise Dataset\n",
    "testset = Dataset.load_from_df(test_df[['userId', 'movieId', 'rating']], Reader(rating_scale=(0.5, 5.0))).build_full_trainset().build_testset()\n",
    "\n",
    "# Make predictions\n",
    "predictions = best_model.test(testset)\n",
    "\n",
    "# Calculate and print RMSE\n",
    "rmse = accuracy.rmse(predictions)\n",
    "\n",
    "# Adding the predicted ratings to the test DataFrame\n",
    "test_df['predicted_rating'] = [pred.est for pred in predictions]\n",
    "\n",
    "# Display the first few rows with predicted ratings\n",
    "print(test_df.head())\n"
   ]
  },
  {
   "cell_type": "markdown",
   "id": "677978cb",
   "metadata": {
    "papermill": {
     "duration": 0.00417,
     "end_time": "2024-06-20T00:11:13.256999",
     "exception": false,
     "start_time": "2024-06-20T00:11:13.252829",
     "status": "completed"
    },
    "tags": []
   },
   "source": [
    "**Submission**"
   ]
  },
  {
   "cell_type": "code",
   "execution_count": 7,
   "id": "bb06bef7",
   "metadata": {
    "execution": {
     "iopub.execute_input": "2024-06-20T00:11:13.267049Z",
     "iopub.status.busy": "2024-06-20T00:11:13.266679Z",
     "iopub.status.idle": "2024-06-20T01:16:48.557044Z",
     "shell.execute_reply": "2024-06-20T01:16:48.555980Z"
    },
    "papermill": {
     "duration": 3935.301646,
     "end_time": "2024-06-20T01:16:48.562900",
     "exception": false,
     "start_time": "2024-06-20T00:11:13.261254",
     "status": "completed"
    },
    "tags": []
   },
   "outputs": [
    {
     "name": "stdout",
     "output_type": "stream",
     "text": [
      "Best parameters: {'n_factors': 20, 'n_epochs': 20, 'lr_all': 0.005, 'reg_all': 0.02}\n",
      "       Id    rating\n",
      "0  1_2011  3.037095\n",
      "1  1_4144  4.231037\n",
      "2  1_5767  3.570826\n",
      "3  1_6711  4.014753\n",
      "4  1_7318  3.148033\n"
     ]
    }
   ],
   "source": [
    "import pandas as pd\n",
    "from surprise import Dataset, Reader, SVD\n",
    "from surprise.model_selection import GridSearchCV\n",
    "\n",
    "# Load train and test data\n",
    "train_df = pd.read_csv('/kaggle/input/alx-movie-recommendation-project-2024/train.csv')\n",
    "test_df = pd.read_csv('/kaggle/input/alx-movie-recommendation-project-2024/test.csv')\n",
    "\n",
    "# Load data into Surprise\n",
    "reader = Reader(rating_scale=(0.5, 5.0))\n",
    "data = Dataset.load_from_df(train_df[['userId', 'movieId', 'rating']], reader)\n",
    "\n",
    "# Parameter tuning\n",
    "param_grid = {\n",
    "    'n_factors': [20, 50],\n",
    "    'n_epochs': [20],\n",
    "    'lr_all': [0.002, 0.005],\n",
    "    'reg_all': [0.02, 0.1]\n",
    "}\n",
    "\n",
    "gs = GridSearchCV(SVD, param_grid, measures=['rmse'], cv=3, n_jobs=1)\n",
    "gs.fit(data)\n",
    "\n",
    "best_params = gs.best_params['rmse']\n",
    "print(f'Best parameters: {best_params}')\n",
    "\n",
    "# Train with best parameters\n",
    "best_model = SVD(**best_params)\n",
    "best_model.fit(data.build_full_trainset())\n",
    "\n",
    "# Efficient prediction\n",
    "user_movie_pairs = list(zip(test_df['userId'], test_df['movieId']))\n",
    "predictions = [best_model.predict(uid, mid).est for (uid, mid) in user_movie_pairs]\n",
    "test_df['rating'] = predictions\n",
    "\n",
    "# Format predictions\n",
    "test_df['Id'] = test_df['userId'].astype(str) + '_' + test_df['movieId'].astype(str)\n",
    "submission_df = test_df[['Id', 'rating']]\n",
    "\n",
    "# Save to CSV\n",
    "submission_df.to_csv('/kaggle/working/submission.csv', index=False)\n",
    "print(submission_df.head())\n"
   ]
  }
 ],
 "metadata": {
  "kaggle": {
   "accelerator": "none",
   "dataSources": [
    {
     "databundleVersionId": 8778365,
     "sourceId": 81285,
     "sourceType": "competition"
    }
   ],
   "dockerImageVersionId": 30732,
   "isGpuEnabled": false,
   "isInternetEnabled": false,
   "language": "python",
   "sourceType": "notebook"
  },
  "kernelspec": {
   "display_name": "Python 3",
   "language": "python",
   "name": "python3"
  },
  "language_info": {
   "codemirror_mode": {
    "name": "ipython",
    "version": 3
   },
   "file_extension": ".py",
   "mimetype": "text/x-python",
   "name": "python",
   "nbconvert_exporter": "python",
   "pygments_lexer": "ipython3",
   "version": "3.10.13"
  },
  "papermill": {
   "default_parameters": {},
   "duration": 4213.392862,
   "end_time": "2024-06-20T01:16:51.695642",
   "environment_variables": {},
   "exception": null,
   "input_path": "__notebook__.ipynb",
   "output_path": "__notebook__.ipynb",
   "parameters": {},
   "start_time": "2024-06-20T00:06:38.302780",
   "version": "2.5.0"
  }
 },
 "nbformat": 4,
 "nbformat_minor": 5
}
