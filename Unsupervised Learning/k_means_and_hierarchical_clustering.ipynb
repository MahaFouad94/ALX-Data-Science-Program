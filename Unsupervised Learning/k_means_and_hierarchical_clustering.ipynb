{
 "cells": [
  {
   "cell_type": "markdown",
   "metadata": {},
   "source": [
    "<div align=\"center\" style=\" font-size: 80%; text-align: center; margin: 0 auto\">\n",
    "<img src=\"https://raw.githubusercontent.com/Explore-AI/Pictures/master/Python-Notebook-Banners/Code_challenge.png\"  style=\"display: block; margin-left: auto; margin-right: auto;\";/>\n",
    "</div>"
   ]
  },
  {
   "cell_type": "markdown",
   "metadata": {},
   "source": [
    "# K-means and hierarchical clustering MCQ\n",
    "© ExploreAI Academy"
   ]
  },
  {
   "cell_type": "markdown",
   "metadata": {},
   "source": [
    "In this MCQ, we will review and assess our understanding of the core concepts of k-means and hierarchical clustering.\n",
    "\n",
    "## Learning objectives\n",
    "\n",
    "By the end of this MCQ, you should be able to:\n",
    "* Find the optimal number of clusters for a k-means clustering model.\n",
    "* Apply the Kmeans clustering algorithm and evaluate its quality.\n",
    "* Find the optimal number of clusters using hierachical clustering.\n",
    "* Implement agglomerative hierarchical clustering."
   ]
  },
  {
   "cell_type": "markdown",
   "metadata": {},
   "source": [
    "## Introduction\n",
    "\n",
    "The dataset contains information about mall customers, including their gender, age, annual income (in thousands of dollars), and spending score. Each row in the dataset represents a unique customer, identified by a CustomerID. The data was collected from a survey for marketing or customer segmentation purposes.\n",
    "\n",
    "The primary objective of this analysis is to segment the customers based on their **annual income and spending scores** using K-means and hierarchical clustering. We aim to identify distinct groups of customers with similar spending behaviours and income levels. This segmentation can help in targeted marketing strategies, understanding customer preferences, and improving overall customer satisfaction and retention.\n",
    "\n",
    "⚠️**Note**: This notebook is running Python version 3.11.14. To ensure that our results are consistent, please switch to this version. Please also note that the order of answers in the MCQ test itself might differ from what is presented here."
   ]
  },
  {
   "cell_type": "code",
   "execution_count": 1,
   "metadata": {},
   "outputs": [
    {
     "data": {
      "text/html": [
       "<div>\n",
       "<style scoped>\n",
       "    .dataframe tbody tr th:only-of-type {\n",
       "        vertical-align: middle;\n",
       "    }\n",
       "\n",
       "    .dataframe tbody tr th {\n",
       "        vertical-align: top;\n",
       "    }\n",
       "\n",
       "    .dataframe thead th {\n",
       "        text-align: right;\n",
       "    }\n",
       "</style>\n",
       "<table border=\"1\" class=\"dataframe\">\n",
       "  <thead>\n",
       "    <tr style=\"text-align: right;\">\n",
       "      <th></th>\n",
       "      <th>Genre</th>\n",
       "      <th>Age</th>\n",
       "      <th>Annual_Income_(k$)</th>\n",
       "      <th>Spending_Score</th>\n",
       "    </tr>\n",
       "    <tr>\n",
       "      <th>CustomerID</th>\n",
       "      <th></th>\n",
       "      <th></th>\n",
       "      <th></th>\n",
       "      <th></th>\n",
       "    </tr>\n",
       "  </thead>\n",
       "  <tbody>\n",
       "    <tr>\n",
       "      <th>1</th>\n",
       "      <td>Male</td>\n",
       "      <td>19</td>\n",
       "      <td>15</td>\n",
       "      <td>39</td>\n",
       "    </tr>\n",
       "    <tr>\n",
       "      <th>2</th>\n",
       "      <td>Male</td>\n",
       "      <td>21</td>\n",
       "      <td>15</td>\n",
       "      <td>81</td>\n",
       "    </tr>\n",
       "    <tr>\n",
       "      <th>3</th>\n",
       "      <td>Female</td>\n",
       "      <td>20</td>\n",
       "      <td>16</td>\n",
       "      <td>6</td>\n",
       "    </tr>\n",
       "    <tr>\n",
       "      <th>4</th>\n",
       "      <td>Female</td>\n",
       "      <td>23</td>\n",
       "      <td>16</td>\n",
       "      <td>77</td>\n",
       "    </tr>\n",
       "    <tr>\n",
       "      <th>5</th>\n",
       "      <td>Female</td>\n",
       "      <td>31</td>\n",
       "      <td>17</td>\n",
       "      <td>40</td>\n",
       "    </tr>\n",
       "    <tr>\n",
       "      <th>...</th>\n",
       "      <td>...</td>\n",
       "      <td>...</td>\n",
       "      <td>...</td>\n",
       "      <td>...</td>\n",
       "    </tr>\n",
       "    <tr>\n",
       "      <th>196</th>\n",
       "      <td>Female</td>\n",
       "      <td>35</td>\n",
       "      <td>120</td>\n",
       "      <td>79</td>\n",
       "    </tr>\n",
       "    <tr>\n",
       "      <th>197</th>\n",
       "      <td>Female</td>\n",
       "      <td>45</td>\n",
       "      <td>126</td>\n",
       "      <td>28</td>\n",
       "    </tr>\n",
       "    <tr>\n",
       "      <th>198</th>\n",
       "      <td>Male</td>\n",
       "      <td>32</td>\n",
       "      <td>126</td>\n",
       "      <td>74</td>\n",
       "    </tr>\n",
       "    <tr>\n",
       "      <th>199</th>\n",
       "      <td>Male</td>\n",
       "      <td>32</td>\n",
       "      <td>137</td>\n",
       "      <td>18</td>\n",
       "    </tr>\n",
       "    <tr>\n",
       "      <th>200</th>\n",
       "      <td>Male</td>\n",
       "      <td>30</td>\n",
       "      <td>137</td>\n",
       "      <td>83</td>\n",
       "    </tr>\n",
       "  </tbody>\n",
       "</table>\n",
       "<p>200 rows × 4 columns</p>\n",
       "</div>"
      ],
      "text/plain": [
       "             Genre  Age  Annual_Income_(k$)  Spending_Score\n",
       "CustomerID                                                 \n",
       "1             Male   19                  15              39\n",
       "2             Male   21                  15              81\n",
       "3           Female   20                  16               6\n",
       "4           Female   23                  16              77\n",
       "5           Female   31                  17              40\n",
       "...            ...  ...                 ...             ...\n",
       "196         Female   35                 120              79\n",
       "197         Female   45                 126              28\n",
       "198           Male   32                 126              74\n",
       "199           Male   32                 137              18\n",
       "200           Male   30                 137              83\n",
       "\n",
       "[200 rows x 4 columns]"
      ]
     },
     "execution_count": 1,
     "metadata": {},
     "output_type": "execute_result"
    }
   ],
   "source": [
    "import pandas as pd\n",
    "data = pd.read_csv('https://raw.githubusercontent.com/Explore-AI/Public-Data/master/Data/unsupervised_sprint/mall_customers.csv', index_col=0)\n",
    "data"
   ]
  },
  {
   "cell_type": "markdown",
   "metadata": {},
   "source": [
    "## Questions\n",
    "### Question 1\n",
    "\n",
    "Before we dive in, it’s crucial to acquaint ourselves with the dataset through exploration and preliminary analysis by understanding its characteristics.\n",
    " \n",
    "Print the descriptive statistics of our dataset.\n",
    "True or false. The `Spending_Score` is a number from 1 - 50.\n",
    "\n",
    "#### Options:\n",
    "\n",
    "* True\n",
    "* False\n"
   ]
  },
  {
   "cell_type": "code",
   "execution_count": 2,
   "metadata": {},
   "outputs": [
    {
     "name": "stdout",
     "output_type": "stream",
     "text": [
      "              Age  Annual_Income_(k$)  Spending_Score\n",
      "count  200.000000          200.000000      200.000000\n",
      "mean    38.850000           60.560000       50.200000\n",
      "std     13.969007           26.264721       25.823522\n",
      "min     18.000000           15.000000        1.000000\n",
      "25%     28.750000           41.500000       34.750000\n",
      "50%     36.000000           61.500000       50.000000\n",
      "75%     49.000000           78.000000       73.000000\n",
      "max     70.000000          137.000000       99.000000\n"
     ]
    }
   ],
   "source": [
    "#Your code here\n",
    "print(data.describe())\n"
   ]
  },
  {
   "cell_type": "markdown",
   "metadata": {},
   "source": [
    "# Answer: False"
   ]
  },
  {
   "cell_type": "markdown",
   "metadata": {},
   "source": [
    "### Question 2\n",
    "What is the total number of observations in this dataset?\n",
    "\n",
    "#### Options:\n",
    "* 100\n",
    "* 150\n",
    "* 200\n",
    "* 250\n",
    " \n"
   ]
  },
  {
   "cell_type": "markdown",
   "metadata": {},
   "source": [
    "# Answer: 200"
   ]
  },
  {
   "cell_type": "markdown",
   "metadata": {},
   "source": [
    "### Question 3\n",
    "Next, we need to check if the data contains any null values because missing values can disrupt the modelling process by causing errors or biases in our analysis.\n",
    "\n",
    "Write code that will check if our dataset contains any null values. If so, fill them with zero's.\n",
    "True or false. Our dataset contains no null values.\n",
    "\n",
    "#### Options:\n",
    "\n",
    "* True\n",
    "* False\n"
   ]
  },
  {
   "cell_type": "code",
   "execution_count": 5,
   "metadata": {},
   "outputs": [
    {
     "data": {
      "text/plain": [
       "False"
      ]
     },
     "execution_count": 5,
     "metadata": {},
     "output_type": "execute_result"
    }
   ],
   "source": [
    "#Your code here\n",
    "# Check if the dataset contains any null values\n",
    "null_values = data.isnull().sum().any()\n",
    "\n",
    "# If there are null values, fill them with zeros\n",
    "if null_values:\n",
    "    data.fillna(0, inplace=True)\n",
    "\n",
    "null_values\n",
    "\n"
   ]
  },
  {
   "cell_type": "markdown",
   "metadata": {},
   "source": [
    "# Answer: True"
   ]
  },
  {
   "cell_type": "markdown",
   "metadata": {},
   "source": [
    "### Question 4 \n",
    "Since we are interested in segmenting our customers based on their **annual income and spending score**, let's visualise the relationship between this pair.\n",
    "\n",
    "Generate a scatter plot showing the relationship between annual income and spending score for each customer in the dataset.\n",
    "\n",
    "What insights can be inferred from the scatter plot?\n",
    "\n",
    "#### Options:\n",
    "\n",
    "* The data points exhibit a uniform distribution across the grid.\n",
    "* There are visible clusters forming, particularly in the center of the plot.\n",
    "* Points are evenly spread, indicating no discernible patterns or correlations.\n",
    "* There is no relationship between annual income and spending score.\n",
    "\n"
   ]
  },
  {
   "cell_type": "code",
   "execution_count": 11,
   "metadata": {},
   "outputs": [
    {
     "data": {
      "image/png": "[encoded data removed]",
      "text/plain": [
       "<Figure size 800x600 with 1 Axes>"
      ]
     },
     "metadata": {},
     "output_type": "display_data"
    }
   ],
   "source": [
    "#Your code here\n",
    "import matplotlib.pyplot as plt\n",
    "\n",
    "# Scatter plot\n",
    "plt.figure(figsize=(8, 6))\n",
    "plt.scatter(data['Annual_Income_(k$)'], data['Spending_Score'], c='blue', alpha=0.5)\n",
    "plt.title('Annual Income vs Spending Score')\n",
    "plt.xlabel('Annual Income (k$)')\n",
    "plt.ylabel('Spending Score')\n",
    "plt.grid(True)\n",
    "plt.show()\n"
   ]
  },
  {
   "cell_type": "markdown",
   "metadata": {},
   "source": [
    "# Answer: There are visible clusters forming, particularly in the center of the plot."
   ]
  },
  {
   "cell_type": "markdown",
   "metadata": {},
   "source": [
    "### Question 5\n",
    "Before continuing our analysis, we need to scale our data to prevent attributes with larger magnitudes from dominating the distance calculations. \n",
    "\n",
    "The code below attempts to scale the data but it returns an error. \n",
    "Which of the following best explains why the provided code returns an error?\n",
    "\n",
    "#### Options:\n",
    "\n",
    "\n",
    "* The code fails because the MinMaxScaler requires the data to be in a specific range, and the provided data exceeds this range.\n",
    "\n",
    "* The error occurs because the MinMaxScaler cannot handle missing values in the dataset.\n",
    "\n",
    "* The code attempts to fit the MinMaxScaler on non-numeric data, resulting in a ValueError because the MinMaxScaler only works with numerical data.\n",
    "\n",
    "* The code fails because the MinMaxScaler requires the input data to be a NumPy array, and the provided data is not in this format."
   ]
  },
  {
   "cell_type": "code",
   "execution_count": 12,
   "metadata": {},
   "outputs": [],
   "source": [
    "from sklearn.preprocessing import MinMaxScaler\n",
    "\n",
    "ms = MinMaxScaler()\n",
    "\n",
    "X_scaled = ms.fit_transform(data)\n"
   ]
  },
  {
   "cell_type": "markdown",
   "metadata": {},
   "source": [
    "# Answer: The code attempts to fit the MinMaxScaler on non-numeric data, resulting in a ValueError because the MinMaxScaler only works with numerical data."
   ]
  },
  {
   "cell_type": "markdown",
   "metadata": {},
   "source": [
    "### Question 6\n",
    "\n",
    "Let's initiate our cluster analysis by selecting the features for segmentation. Given our focus on customer segmentation using their annual income and spending score, we'll designate the `Annual_Income_(k$)` and `Spending_Score` columns as the features for clustering, assigning them to the variable `X`.\n",
    "\n",
    "Following feature selection, let's scale our data using the MinMaxScaler as attempted in the previous question and implement the K-Means clustering algorithm on the scaled dataset, opting for **5** clusters based on an initial analysis of our scatter plot.\n",
    "\n",
    "Following the application of the K-Means model using 5 clusters, which of the following code snippets will display the coordinates of the centroids representing the clusters identified by the algorithm?\n",
    "\n",
    "#### Options:\n",
    "* `print(kmeans.centroids_)`\n",
    "* **`print(kmeans.cluster_centers_)`**\n",
    "* `print(kmeans.cluster_centers)`\n",
    "* `print(kmeans.centroids)`"
   ]
  },
  {
   "cell_type": "code",
   "execution_count": 13,
   "metadata": {},
   "outputs": [
    {
     "name": "stderr",
     "output_type": "stream",
     "text": [
      "C:\\Users\\mahaf\\anaconda3\\Lib\\site-packages\\sklearn\\cluster\\_kmeans.py:1412: FutureWarning: The default value of `n_init` will change from 10 to 'auto' in 1.4. Set the value of `n_init` explicitly to suppress the warning\n",
      "  super()._check_params_vs_input(X, default_n_init=10)\n",
      "C:\\Users\\mahaf\\anaconda3\\Lib\\site-packages\\sklearn\\cluster\\_kmeans.py:1436: UserWarning: KMeans is known to have a memory leak on Windows with MKL, when there are less chunks than available threads. You can avoid it by setting the environment variable OMP_NUM_THREADS=1.\n",
      "  warnings.warn(\n"
     ]
    },
    {
     "name": "stdout",
     "output_type": "stream",
     "text": [
      "[[0.08792846 0.79962894]\n",
      " [0.6        0.16443149]\n",
      " [0.58638083 0.82783883]\n",
      " [0.33029751 0.49508692]\n",
      " [0.09265859 0.20319432]]\n"
     ]
    }
   ],
   "source": [
    "#Your code here\n",
    "from sklearn.preprocessing import MinMaxScaler\n",
    "from sklearn.cluster import KMeans\n",
    "import pandas as pd\n",
    "\n",
    "# Load the data\n",
    "data = pd.read_csv('https://raw.githubusercontent.com/Explore-AI/Public-Data/master/Data/unsupervised_sprint/mall_customers.csv', index_col=0)\n",
    "\n",
    "# Select the features for clustering\n",
    "X = data[['Annual_Income_(k$)', 'Spending_Score']]\n",
    "\n",
    "# Scale the data\n",
    "scaler = MinMaxScaler()\n",
    "X_scaled = scaler.fit_transform(X)\n",
    "\n",
    "# Implement the K-Means clustering algorithm with 5 clusters\n",
    "kmeans = KMeans(n_clusters=5, random_state=42)\n",
    "kmeans.fit(X_scaled)\n",
    "\n",
    "# Display the coordinates of the centroids\n",
    "print(kmeans.cluster_centers_)\n"
   ]
  },
  {
   "cell_type": "markdown",
   "metadata": {},
   "source": [
    "# Answer: print(kmeans.cluster_centers_)"
   ]
  },
  {
   "cell_type": "markdown",
   "metadata": {},
   "source": [
    "### Question 7 \n",
    "To build an accurate model, there are methods we can use to determine the optimal number of clusters to employ in our analysis.\n",
    "\n",
    "Which of the following measures are **NOT** typically used to help us determine the best K value for our data?\n",
    "\n",
    "#### Options:\n",
    "* Within-cluster variation\n",
    "* Between-cluster variation\n",
    "* Outer-cluster variation\n",
    "* The CH index"
   ]
  },
  {
   "cell_type": "markdown",
   "metadata": {},
   "source": [
    "# Answer: Outer-cluster variation"
   ]
  },
  {
   "cell_type": "markdown",
   "metadata": {},
   "source": [
    "### Question 8"
   ]
  },
  {
   "cell_type": "markdown",
   "metadata": {},
   "source": [
    "Let's determine the optimal k value. Use the `Elbow method`, with `WCSS`, to find the best K value for our dataset.\n",
    "\n",
    "Based on the elbow method plot, which is the best K value for our data?\n",
    "\n",
    "#### Options:\n",
    "* 3 clusters\n",
    "* 5 clusters\n",
    "* 7 clusters\n",
    "* 10 clusters"
   ]
  },
  {
   "cell_type": "code",
   "execution_count": 14,
   "metadata": {},
   "outputs": [
    {
     "name": "stderr",
     "output_type": "stream",
     "text": [
      "C:\\Users\\mahaf\\anaconda3\\Lib\\site-packages\\sklearn\\cluster\\_kmeans.py:1412: FutureWarning: The default value of `n_init` will change from 10 to 'auto' in 1.4. Set the value of `n_init` explicitly to suppress the warning\n",
      "  super()._check_params_vs_input(X, default_n_init=10)\n",
      "C:\\Users\\mahaf\\anaconda3\\Lib\\site-packages\\sklearn\\cluster\\_kmeans.py:1436: UserWarning: KMeans is known to have a memory leak on Windows with MKL, when there are less chunks than available threads. You can avoid it by setting the environment variable OMP_NUM_THREADS=1.\n",
      "  warnings.warn(\n",
      "C:\\Users\\mahaf\\anaconda3\\Lib\\site-packages\\sklearn\\cluster\\_kmeans.py:1412: FutureWarning: The default value of `n_init` will change from 10 to 'auto' in 1.4. Set the value of `n_init` explicitly to suppress the warning\n",
      "  super()._check_params_vs_input(X, default_n_init=10)\n",
      "C:\\Users\\mahaf\\anaconda3\\Lib\\site-packages\\sklearn\\cluster\\_kmeans.py:1436: UserWarning: KMeans is known to have a memory leak on Windows with MKL, when there are less chunks than available threads. You can avoid it by setting the environment variable OMP_NUM_THREADS=1.\n",
      "  warnings.warn(\n",
      "C:\\Users\\mahaf\\anaconda3\\Lib\\site-packages\\sklearn\\cluster\\_kmeans.py:1412: FutureWarning: The default value of `n_init` will change from 10 to 'auto' in 1.4. Set the value of `n_init` explicitly to suppress the warning\n",
      "  super()._check_params_vs_input(X, default_n_init=10)\n",
      "C:\\Users\\mahaf\\anaconda3\\Lib\\site-packages\\sklearn\\cluster\\_kmeans.py:1436: UserWarning: KMeans is known to have a memory leak on Windows with MKL, when there are less chunks than available threads. You can avoid it by setting the environment variable OMP_NUM_THREADS=1.\n",
      "  warnings.warn(\n",
      "C:\\Users\\mahaf\\anaconda3\\Lib\\site-packages\\sklearn\\cluster\\_kmeans.py:1412: FutureWarning: The default value of `n_init` will change from 10 to 'auto' in 1.4. Set the value of `n_init` explicitly to suppress the warning\n",
      "  super()._check_params_vs_input(X, default_n_init=10)\n",
      "C:\\Users\\mahaf\\anaconda3\\Lib\\site-packages\\sklearn\\cluster\\_kmeans.py:1436: UserWarning: KMeans is known to have a memory leak on Windows with MKL, when there are less chunks than available threads. You can avoid it by setting the environment variable OMP_NUM_THREADS=1.\n",
      "  warnings.warn(\n",
      "C:\\Users\\mahaf\\anaconda3\\Lib\\site-packages\\sklearn\\cluster\\_kmeans.py:1412: FutureWarning: The default value of `n_init` will change from 10 to 'auto' in 1.4. Set the value of `n_init` explicitly to suppress the warning\n",
      "  super()._check_params_vs_input(X, default_n_init=10)\n",
      "C:\\Users\\mahaf\\anaconda3\\Lib\\site-packages\\sklearn\\cluster\\_kmeans.py:1436: UserWarning: KMeans is known to have a memory leak on Windows with MKL, when there are less chunks than available threads. You can avoid it by setting the environment variable OMP_NUM_THREADS=1.\n",
      "  warnings.warn(\n",
      "C:\\Users\\mahaf\\anaconda3\\Lib\\site-packages\\sklearn\\cluster\\_kmeans.py:1412: FutureWarning: The default value of `n_init` will change from 10 to 'auto' in 1.4. Set the value of `n_init` explicitly to suppress the warning\n",
      "  super()._check_params_vs_input(X, default_n_init=10)\n",
      "C:\\Users\\mahaf\\anaconda3\\Lib\\site-packages\\sklearn\\cluster\\_kmeans.py:1436: UserWarning: KMeans is known to have a memory leak on Windows with MKL, when there are less chunks than available threads. You can avoid it by setting the environment variable OMP_NUM_THREADS=1.\n",
      "  warnings.warn(\n",
      "C:\\Users\\mahaf\\anaconda3\\Lib\\site-packages\\sklearn\\cluster\\_kmeans.py:1412: FutureWarning: The default value of `n_init` will change from 10 to 'auto' in 1.4. Set the value of `n_init` explicitly to suppress the warning\n",
      "  super()._check_params_vs_input(X, default_n_init=10)\n",
      "C:\\Users\\mahaf\\anaconda3\\Lib\\site-packages\\sklearn\\cluster\\_kmeans.py:1436: UserWarning: KMeans is known to have a memory leak on Windows with MKL, when there are less chunks than available threads. You can avoid it by setting the environment variable OMP_NUM_THREADS=1.\n",
      "  warnings.warn(\n",
      "C:\\Users\\mahaf\\anaconda3\\Lib\\site-packages\\sklearn\\cluster\\_kmeans.py:1412: FutureWarning: The default value of `n_init` will change from 10 to 'auto' in 1.4. Set the value of `n_init` explicitly to suppress the warning\n",
      "  super()._check_params_vs_input(X, default_n_init=10)\n",
      "C:\\Users\\mahaf\\anaconda3\\Lib\\site-packages\\sklearn\\cluster\\_kmeans.py:1436: UserWarning: KMeans is known to have a memory leak on Windows with MKL, when there are less chunks than available threads. You can avoid it by setting the environment variable OMP_NUM_THREADS=1.\n",
      "  warnings.warn(\n",
      "C:\\Users\\mahaf\\anaconda3\\Lib\\site-packages\\sklearn\\cluster\\_kmeans.py:1412: FutureWarning: The default value of `n_init` will change from 10 to 'auto' in 1.4. Set the value of `n_init` explicitly to suppress the warning\n",
      "  super()._check_params_vs_input(X, default_n_init=10)\n",
      "C:\\Users\\mahaf\\anaconda3\\Lib\\site-packages\\sklearn\\cluster\\_kmeans.py:1436: UserWarning: KMeans is known to have a memory leak on Windows with MKL, when there are less chunks than available threads. You can avoid it by setting the environment variable OMP_NUM_THREADS=1.\n",
      "  warnings.warn(\n",
      "C:\\Users\\mahaf\\anaconda3\\Lib\\site-packages\\sklearn\\cluster\\_kmeans.py:1412: FutureWarning: The default value of `n_init` will change from 10 to 'auto' in 1.4. Set the value of `n_init` explicitly to suppress the warning\n",
      "  super()._check_params_vs_input(X, default_n_init=10)\n",
      "C:\\Users\\mahaf\\anaconda3\\Lib\\site-packages\\sklearn\\cluster\\_kmeans.py:1436: UserWarning: KMeans is known to have a memory leak on Windows with MKL, when there are less chunks than available threads. You can avoid it by setting the environment variable OMP_NUM_THREADS=1.\n",
      "  warnings.warn(\n"
     ]
    },
    {
     "data": {
      "image/png": "[encoded data removed]",
      "text/plain": [
       "<Figure size 800x600 with 1 Axes>"
      ]
     },
     "metadata": {},
     "output_type": "display_data"
    }
   ],
   "source": [
    "#Your code here\n",
    "import matplotlib.pyplot as plt\n",
    "from sklearn.cluster import KMeans\n",
    "\n",
    "# Calculate WCSS for different values of K\n",
    "wcss = []\n",
    "X = data[['Annual_Income_(k$)', 'Spending_Score']]\n",
    "X_scaled = MinMaxScaler().fit_transform(X)\n",
    "\n",
    "for i in range(1, 11):\n",
    "    kmeans = KMeans(n_clusters=i, random_state=42)\n",
    "    kmeans.fit(X_scaled)\n",
    "    wcss.append(kmeans.inertia_)\n",
    "\n",
    "# Plot the Elbow method graph\n",
    "plt.figure(figsize=(8, 6))\n",
    "plt.plot(range(1, 11), wcss, marker='o', linestyle='-', color='b')\n",
    "plt.title('Elbow Method for Optimal K')\n",
    "plt.xlabel('Number of clusters')\n",
    "plt.ylabel('WCSS')\n",
    "plt.grid(True)\n",
    "plt.show()\n"
   ]
  },
  {
   "cell_type": "markdown",
   "metadata": {},
   "source": [
    "# Answer: 5 clusters"
   ]
  },
  {
   "cell_type": "markdown",
   "metadata": {},
   "source": [
    "### Question 9\n",
    "Let's evaluate the model's quality by computing its silhouette score.\n",
    "\n",
    "Based on the results, what is the silhouette score for a k-means model with k=5 clusters?\n",
    "#### Options: \n",
    "* 0.625\n",
    "* 0.559\n",
    "* 0.715\n",
    "* 0.890"
   ]
  },
  {
   "cell_type": "code",
   "execution_count": 16,
   "metadata": {},
   "outputs": [
    {
     "name": "stderr",
     "output_type": "stream",
     "text": [
      "C:\\Users\\mahaf\\anaconda3\\Lib\\site-packages\\sklearn\\cluster\\_kmeans.py:1412: FutureWarning: The default value of `n_init` will change from 10 to 'auto' in 1.4. Set the value of `n_init` explicitly to suppress the warning\n",
      "  super()._check_params_vs_input(X, default_n_init=10)\n",
      "C:\\Users\\mahaf\\anaconda3\\Lib\\site-packages\\sklearn\\cluster\\_kmeans.py:1436: UserWarning: KMeans is known to have a memory leak on Windows with MKL, when there are less chunks than available threads. You can avoid it by setting the environment variable OMP_NUM_THREADS=1.\n",
      "  warnings.warn(\n"
     ]
    },
    {
     "name": "stdout",
     "output_type": "stream",
     "text": [
      "Silhouette Score for k=5 clusters: 0.5594854531227246\n"
     ]
    }
   ],
   "source": [
    "#Your code here\n",
    "from sklearn.metrics import silhouette_score\n",
    "\n",
    "# Implement the K-Means clustering algorithm with 5 clusters\n",
    "kmeans = KMeans(n_clusters=5, random_state=42)\n",
    "kmeans.fit(X_scaled)\n",
    "\n",
    "# Predict the cluster labels\n",
    "labels = kmeans.labels_\n",
    "\n",
    "# Compute the silhouette score\n",
    "silhouette_avg = silhouette_score(X_scaled, labels)\n",
    "print(\"Silhouette Score for k=5 clusters:\", silhouette_avg)\n"
   ]
  },
  {
   "cell_type": "markdown",
   "metadata": {},
   "source": [
    "# Answer: 0.559 #"
   ]
  },
  {
   "cell_type": "markdown",
   "metadata": {},
   "source": [
    "### Question 10\n",
    "What does the resulting silhouette score indicate?\n",
    "\n",
    "#### Options:\n",
    "\n",
    "* It is quite bad because it is less than 10.\n",
    "* It is good because it is greater than 0 and relatively close to 1.\n",
    "* It is very bad because we want it to be closer to -1.\n",
    "* The silhouette score does not really matter."
   ]
  },
  {
   "cell_type": "markdown",
   "metadata": {},
   "source": [
    "# Answer: It is good because it is greater than 0 and relatively close to 1."
   ]
  },
  {
   "cell_type": "markdown",
   "metadata": {},
   "source": [
    "### Question 11\n",
    "\n",
    "What is the next appropriate step after determining that the silhouette score for the optimal number of clusters, determined by the elbow method, is deemed unsatisfactory?\n",
    "\n",
    "#### Options:\n",
    "* Increase the number of clusters and recompute the silhouette score.\n",
    "* Decrease the number of clusters and recompute the silhouette score.\n",
    "* Ignore the silhouette score and proceed with the current clustering configuration.\n",
    "* Use the silhouette score as input into decision-making when evaluating other clustering algorithms."
   ]
  },
  {
   "cell_type": "markdown",
   "metadata": {},
   "source": [
    "# Answer: Use the silhouette score as input into decision-making when evaluating other clustering algorithms."
   ]
  },
  {
   "cell_type": "markdown",
   "metadata": {},
   "source": [
    "### Question 12\n",
    "Hierarchical clustering could be a natural next step for further analysis, especially considering the presence of the outliers and the potentially uneven cluster shapes observed in the KMeans model results. Hierarchical clustering can offer insights into the hierarchical structure of the data, potentially capturing nuances that KMeans might overlook.\n",
    "\n",
    "Which of the following is a key difference between KMeans and Hierarchical clustering algorithms?\n",
    "\n",
    "#### Options:\n",
    "* Hierarchical Clustering forms spherical clusters around centroids. Each data point belongs to the cluster with the nearest centroid. In contrast, KMeans builds a hierarchy of clusters, starting with individual data points and gradually merging them into larger clusters based on proximity.\n",
    "* Hierarchical clustering assumes clusters to be spherical and of equal size, which may not always reflect the true underlying structure of the data, whereas KMeans can capture clusters of arbitrary shapes and sizes, offering more flexibility in cluster formation.\n",
    "* Hierarchical clustering does not require the number of clusters to be predefined. It produces a hierarchical tree of clusters, and the number of clusters can be determined after the clustering process, whereas KMeans requires the number of clusters (K) to be specified in advance.\n",
    "* Hierarchical Clustering requires the number of clusters (K) to be specified in advance. In contrast, KMeans does not require the number of clusters to be predefined. It produces a hierarchical tree of clusters, and the number of clusters can be determined after the clustering process."
   ]
  },
  {
   "cell_type": "markdown",
   "metadata": {},
   "source": [
    "# Answer: Hierarchical clustering does not require the number of clusters to be predefined. It produces a hierarchical tree of clusters, and the number of clusters can be determined after the clustering process, whereas KMeans requires the number of clusters (K) to be specified in advance. "
   ]
  },
  {
   "cell_type": "markdown",
   "metadata": {},
   "source": [
    "### Question 13\n",
    "\n",
    "What is the most appropriate number of clusters for the data points represented by the following dendrogram?\n",
    "\n",
    "#  \n",
    "\n",
    "<div align=\"center\" style=\" font-size: 80%; text-align: center; margin: 0 auto\">\n",
    "<img src=\"https://raw.githubusercontent.com/Explore-AI/Pictures/master/mcq_dendrogram.jpeg\"  style=\"width:400px\";/>\n",
    "</div>\n",
    "\n",
    "#### Options:\n",
    "\n",
    "* 2\n",
    "* 4\n",
    "* 6\n",
    "* 8"
   ]
  },
  {
   "cell_type": "markdown",
   "metadata": {},
   "source": [
    "# Answer: 4"
   ]
  },
  {
   "cell_type": "markdown",
   "metadata": {},
   "source": [
    "### Question 14 \n",
    "\n",
    "The below code attempts to perform agglomerative clustering on the scaled data, **based on 5 clusters**, using the `AgglomerativeClustering` class from sklearn and print the resulting cluster labels. However, there is an error in the code. Which of the following options will fix the error and produce the desired results?\n",
    "\n",
    "#### Options:\n",
    "* Replace labels = fit_predict(X_scaled) with labels = cluster.fit_predict(X_scaled)\n",
    "\n",
    "* Replace labels = fit_predict(X_scaled) with labels = cluster.predict(X_scaled)\n",
    "\n",
    "* Replace labels = fit_predict(X_scaled) with labels = cluster.fit(X_scaled)\n",
    "\n",
    "* Replace labels = fit_predict(X_scaled) with labels = cluster.fit_transform(X_scaled)\n"
   ]
  },
  {
   "cell_type": "code",
   "execution_count": 23,
   "metadata": {},
   "outputs": [
    {
     "data": {
      "text/plain": [
       "array([4, 3, 4, 3, 4, 3, 4, 3, 4, 3, 4, 3, 4, 3, 4, 3, 4, 3, 4, 3, 4, 3,\n",
       "       4, 3, 4, 3, 4, 1, 4, 3, 4, 3, 4, 3, 4, 3, 4, 3, 4, 3, 4, 3, 4, 1,\n",
       "       4, 1, 1, 1, 1, 1, 1, 1, 1, 1, 1, 1, 1, 1, 1, 1, 1, 1, 1, 1, 1, 1,\n",
       "       1, 1, 1, 1, 1, 1, 1, 1, 1, 1, 1, 1, 1, 1, 1, 1, 1, 1, 1, 1, 1, 1,\n",
       "       1, 1, 1, 1, 1, 1, 1, 1, 1, 1, 1, 1, 1, 1, 1, 1, 1, 1, 1, 1, 1, 1,\n",
       "       1, 1, 1, 1, 1, 1, 1, 1, 1, 1, 1, 1, 1, 0, 1, 0, 1, 0, 2, 0, 2, 0,\n",
       "       1, 0, 2, 0, 2, 0, 2, 0, 2, 0, 1, 0, 2, 0, 1, 0, 2, 0, 2, 0, 2, 0,\n",
       "       2, 0, 2, 0, 2, 0, 1, 0, 2, 0, 2, 0, 2, 0, 2, 0, 2, 0, 2, 0, 2, 0,\n",
       "       2, 0, 2, 0, 2, 0, 2, 0, 2, 0, 2, 0, 2, 0, 2, 0, 2, 0, 2, 0, 2, 0,\n",
       "       2, 0], dtype=int64)"
      ]
     },
     "execution_count": 23,
     "metadata": {},
     "output_type": "execute_result"
    }
   ],
   "source": [
    "from sklearn.cluster import AgglomerativeClustering\n",
    "\n",
    "cluster = AgglomerativeClustering(n_clusters=5, linkage='ward')\n",
    "labels = cluster.fit_predict(X_scaled)\n",
    "labels"
   ]
  },
  {
   "cell_type": "markdown",
   "metadata": {},
   "source": [
    "# Answer: cluster.fit_predict(X_scaled)"
   ]
  },
  {
   "cell_type": "markdown",
   "metadata": {},
   "source": [
    "### Question 15\n",
    "\n",
    "After creating a scatter plot visualising the clusters based on the cluster labels in question 14, we calculated and printed the mean values of each feature within each cluster, providing insights into the characteristics of each cluster. See image below.\n",
    "\n",
    "#  \n",
    "\n",
    "<div align=\"center\" style=\" font-size: 80%; text-align: center; margin: 0 auto\">\n",
    "<img src=\"https://raw.githubusercontent.com/Explore-AI/Pictures/master/sklearn_MCQ_image.png\"  style=\"width:1000px\";/>\n",
    "</div>\n",
    "\n",
    "Which of the following best describes the characteristics of Cluster 3 based on the mean values of each feature?\n",
    "\n",
    "#### Options:\n",
    "\n",
    "* Cluster 3 consists of data points with below-average annual income and spending scores.\n",
    "\n",
    "* Cluster 3 represents customers with average annual income and spending scores.\n",
    "\n",
    "* Cluster 3 comprises data points with above-average annual income and spending scores.\n",
    "\n",
    "* Cluster 3 includes customers with significantly low annual income and spending scores."
   ]
  },
  {
   "cell_type": "code",
   "execution_count": 30,
   "metadata": {},
   "outputs": [
    {
     "name": "stdout",
     "output_type": "stream",
     "text": [
      "Cluster 1 mean values:\n",
      "Annual Income: 0.586381\n",
      "Spending Score: 0.827839\n",
      "\n",
      "Cluster 2 mean values:\n",
      "Annual Income: 0.331872\n",
      "Spending Score: 0.492525\n",
      "\n",
      "Cluster 3 mean values:\n",
      "Annual Income: 0.609887\n",
      "Spending Score: 0.148916\n",
      "\n",
      "Cluster 4 mean values:\n",
      "Annual Income: 0.081557\n",
      "Spending Score: 0.816327\n",
      "\n",
      "Cluster 5 mean values:\n",
      "Annual Income: 0.092659\n",
      "Spending Score: 0.203194\n",
      "\n"
     ]
    }
   ],
   "source": [
    "#Your code here\n",
    "import numpy as np\n",
    "\n",
    "# Calculate mean values for each feature within each cluster\n",
    "cluster_means = []\n",
    "for i in range(5):  # Iterating from 0 to 4 for 5 clusters\n",
    "    cluster_i_mean = X_scaled[labels == i].mean(axis=0)\n",
    "    cluster_means.append(cluster_i_mean)\n",
    "\n",
    "# Convert cluster means to a NumPy array for easier indexing\n",
    "cluster_means = np.array(cluster_means)\n",
    "\n",
    "# Print the mean values for each cluster rounded to 6 decimal places\n",
    "for i, mean_values in enumerate(cluster_means):\n",
    "    print(f\"Cluster {i+1} mean values:\")  # Adjusted to start from Cluster 1\n",
    "    print(\"Annual Income:\", round(mean_values[0], 6))\n",
    "    print(\"Spending Score:\", round(mean_values[1], 6))\n",
    "    print()\n",
    "\n"
   ]
  },
  {
   "cell_type": "markdown",
   "metadata": {},
   "source": [
    "# Answer: Cluster 3 comprises data points with above-average annual income and spending scores."
   ]
  },
  {
   "cell_type": "markdown",
   "metadata": {},
   "source": [
    "### Question 16\n",
    "\n",
    "Which of the following practical interpretations best describes Cluster 2 based on the mean values of each feature generated in question 15?\n",
    "\n",
    "#### Options:\n",
    "\n",
    "* Customers in Cluster 2, on average, earn more annually compared to the average earnings of all customers in the dataset.\n",
    "\n",
    "* Customers in Cluster 2, on average, have lower annual income compared to the average earnings of all customers in the dataset.\n",
    "\n",
    "* Customers in Cluster 2, on average, spend more compared to the average spending habits of all customers in the dataset.\n",
    "\n",
    "* Customers in Cluster 2, on average, spend more compared to all the customers in the dataset because they earn more annually."
   ]
  },
  {
   "cell_type": "markdown",
   "metadata": {},
   "source": [
    "# Answer: Customers in Cluster 2, on average, have lower annual income compared to the average earnings of all customers in the dataset."
   ]
  },
  {
   "cell_type": "markdown",
   "metadata": {},
   "source": [
    "### Question 17\n",
    "\n",
    "In order to understand the distribution of data points among different clusters we can visualise the number of data points per cluster using a bar chart.\n",
    "\n",
    "Generate a bar chart that displays the number of data points in each cluster for both our features. \n",
    "\n",
    "What inference can be drawn from the distribution of data points among clusters in our resulting clustering model?\n",
    "\n",
    "#### Options:\n",
    "\n",
    "* The clustering model has successfully separated the data into distinct and balanced clusters.\n",
    "\n",
    "* The uneven distribution suggests potential issues with the clustering model's performance, such as overfitting.\n",
    "\n",
    "* The clustering model demonstrates perfect separation of clusters, indicating robustness and accuracy.\n",
    "\n",
    "* The imbalanced distribution suggests that the clustering algorithm requires more data to achieve better performance."
   ]
  },
  {
   "cell_type": "code",
   "execution_count": 28,
   "metadata": {},
   "outputs": [
    {
     "data": {
      "image/png": "[encoded data removed]",
      "text/plain": [
       "<Figure size 640x480 with 1 Axes>"
      ]
     },
     "metadata": {},
     "output_type": "display_data"
    }
   ],
   "source": [
    "#Your code here\n",
    "import matplotlib.pyplot as plt\n",
    "\n",
    "# Count the occurrences of each cluster label\n",
    "unique_labels, label_counts = np.unique(labels, return_counts=True)\n",
    "\n",
    "# Create a bar chart\n",
    "plt.bar(unique_labels, label_counts, color='skyblue')\n",
    "\n",
    "# Add labels and title\n",
    "plt.xlabel('Cluster Label')\n",
    "plt.ylabel('Number of Data Points')\n",
    "plt.title('Distribution of Data Points Among Clusters')\n",
    "\n",
    "# Show the plot\n",
    "plt.show()\n",
    "\n"
   ]
  },
  {
   "cell_type": "markdown",
   "metadata": {},
   "source": [
    "# Answer: The uneven distribution suggests potential issues with the clustering model's performance, such as overfitting."
   ]
  },
  {
   "cell_type": "markdown",
   "metadata": {},
   "source": [
    "### Question 18\n",
    "\n",
    "When evaluating the quality of clustering using the `Davies-Bouldin Index (DBI)`, which of the following interpretations is correct?\n",
    "\n",
    "#### Options:\n",
    "\n",
    "* A lower DBI value indicates better clustering, where clusters are more compact and well-separated.\n",
    "* A higher DBI value indicates better clustering, indicating more diverse and spread-out clusters.\n",
    "* The DBI value does not provide any meaningful information about the clustering quality.\n",
    "* The DBI value represents the average distance between all pairs of points in the dataset, with higher values indicating better clustering performance."
   ]
  },
  {
   "cell_type": "code",
   "execution_count": 29,
   "metadata": {},
   "outputs": [
    {
     "name": "stdout",
     "output_type": "stream",
     "text": [
      "Davies-Bouldin Index (DBI): 0.5734519252471812\n"
     ]
    }
   ],
   "source": [
    "#Your code here\n",
    "from sklearn.metrics import davies_bouldin_score\n",
    "\n",
    "# Assuming 'labels' contains the cluster labels assigned by the clustering algorithm\n",
    "dbi_score = davies_bouldin_score(X_scaled, labels)\n",
    "print(\"Davies-Bouldin Index (DBI):\", dbi_score)\n"
   ]
  },
  {
   "cell_type": "markdown",
   "metadata": {},
   "source": [
    "# Answer: A lower DBI value indicates better clustering, where clusters are more compact and well-separated."
   ]
  },
  {
   "cell_type": "markdown",
   "metadata": {},
   "source": [
    "### Question 19\n",
    "\n",
    "Which linkage criterion measures the shortest distance between any two points in the two clusters being merged in hierarchical clustering?\n",
    "\n",
    "#### Options\n",
    "* Complete linkage\n",
    "* Single linkage\n",
    "* Average linkage\n",
    "* Ward linkage"
   ]
  },
  {
   "cell_type": "markdown",
   "metadata": {},
   "source": [
    "# Answer: Single linkage"
   ]
  },
  {
   "cell_type": "markdown",
   "metadata": {},
   "source": [
    "### Question 20\n",
    "\n",
    "What is the best next step to take based on the silhouette scores for our KMeans clustering and Hierarchical clustering models, along with the distribution of data points in our clusters?\n",
    "\n",
    "#### Options:\n",
    "\n",
    "* Refit both clustering models with different hyperparameters.\n",
    "\n",
    "* Perform further exploratory data analysis to understand the underlying patterns and potential reasons for the distribution of data points.\n",
    "\n",
    "* Including additional relevant features to enrich the dataset and improve the clustering models' performance.\n",
    "\n",
    "* All of the above"
   ]
  },
  {
   "cell_type": "markdown",
   "metadata": {},
   "source": [
    "# Answer: All of the above "
   ]
  },
  {
   "cell_type": "markdown",
   "metadata": {},
   "source": [
    "#  \n",
    "\n",
    "<div align=\"center\" style=\" font-size: 80%; text-align: center; margin: 0 auto\">\n",
    "<img src=\"https://raw.githubusercontent.com/Explore-AI/Pictures/master/ExploreAI_logos/EAI_Blue_Dark.png\"  style=\"width:200px\";/>\n",
    "</div>"
   ]
  }
 ],
 "metadata": {
  "kernelspec": {
   "display_name": "Python 3 (ipykernel)",
   "language": "python",
   "name": "python3"
  },
  "language_info": {
   "codemirror_mode": {
    "name": "ipython",
    "version": 3
   },
   "file_extension": ".py",
   "mimetype": "text/x-python",
   "name": "python",
   "nbconvert_exporter": "python",
   "pygments_lexer": "ipython3",
   "version": "3.11.5"
  }
 },
 "nbformat": 4,
 "nbformat_minor": 2
}
